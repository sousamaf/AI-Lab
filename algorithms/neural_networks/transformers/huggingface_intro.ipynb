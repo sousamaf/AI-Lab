{
 "cells": [
  {
   "cell_type": "markdown",
   "metadata": {},
   "source": [
    "# Introdução Prática aos Modelos da Hugging Face\n",
    "Este notebook apresenta os conceitos básicos para utilizar os modelos da Hugging Face, explorando:\n",
    "- Como buscar modelos.\n",
    "- Como carregar modelos pré-treinados.\n",
    "- Como realizar inferência em tarefas como classificação, geração de texto e tradução.\n",
    "\n",
    "Utilizando a biblioteca `transformers`."
   ]
  },
  {
   "cell_type": "code",
   "execution_count": null,
   "metadata": {},
   "outputs": [],
   "source": [
    "# Instalar a biblioteca Hugging Face Transformers\n",
    "!pip install transformers -y"
   ]
  },
  {
   "cell_type": "markdown",
   "metadata": {},
   "source": [
    "## Buscar e Explorar Modelos\n",
    "Os modelos estão disponíveis no site [https://huggingface.co/models](https://huggingface.co/models).\n",
    "\n",
    "Eles são organizados por tarefas como:\n",
    "- Classificação de Texto\n",
    "- Geração de Texto\n",
    "- Tradução\n",
    "- Pergunta e Resposta\n",
    "- Tokenização\n",
    "- Embeddings"
   ]
  },
  {
   "cell_type": "markdown",
   "metadata": {},
   "source": [
    "## Pipeline Simples\n",
    "O pipeline é a maneira mais simples de utilizar modelos para tarefas comuns."
   ]
  },
  {
   "cell_type": "code",
   "execution_count": 16,
   "metadata": {},
   "outputs": [
    {
     "name": "stderr",
     "output_type": "stream",
     "text": [
      "No model was supplied, defaulted to distilbert/distilbert-base-uncased-finetuned-sst-2-english and revision 714eb0f (https://huggingface.co/distilbert/distilbert-base-uncased-finetuned-sst-2-english).\n",
      "Using a pipeline without specifying a model name and revision in production is not recommended.\n",
      "Device set to use mps:0\n"
     ]
    },
    {
     "name": "stdout",
     "output_type": "stream",
     "text": [
      "[{'label': 'POSITIVE', 'score': 0.9992026686668396}]\n"
     ]
    }
   ],
   "source": [
    "from transformers import pipeline\n",
    "\n",
    "# Classificação de sentimento\n",
    "classifier = pipeline('sentiment-analysis')\n",
    "result = classifier('I love studying AI on saturday mornings!')\n",
    "print(result)"
   ]
  },
  {
   "cell_type": "markdown",
   "metadata": {},
   "source": [
    "## Geração de Texto"
   ]
  },
  {
   "cell_type": "code",
   "execution_count": 17,
   "metadata": {},
   "outputs": [
    {
     "name": "stderr",
     "output_type": "stream",
     "text": [
      "Device set to use mps:0\n",
      "Truncation was not explicitly activated but `max_length` is provided a specific value, please use `truncation=True` to explicitly truncate examples to max length. Defaulting to 'longest_first' truncation strategy. If you encode pairs of sequences (GLUE-style) with the tokenizer you can select this strategy more precisely by providing a specific strategy to `truncation`.\n",
      "Setting `pad_token_id` to `eos_token_id`:50256 for open-end generation.\n",
      "Both `max_new_tokens` (=256) and `max_length`(=30) seem to have been set. `max_new_tokens` will take precedence. Please refer to the documentation for more information. (https://huggingface.co/docs/transformers/main/en/main_classes/text_generation)\n"
     ]
    },
    {
     "name": "stdout",
     "output_type": "stream",
     "text": [
      "[{'generated_text': \"Once upon a time, I may have been the best of the best. I have been a loyal and trusted friend of the family.\\n\\nI was a member of the church before I ever got out of my parents' house. I know most of my friends and neighbors are not my friends. And though I have been baptized many times, I have never been able to get baptized.\\n\\nI will say that the time when I was a young boy was a wonderful time, a great time, a great time. However, I have never been able to get baptized.\\n\\nI was not baptized until I was 16 years old. I had no idea it would be that much of a change.\\n\\nI knew that I was going to be a Mormon and wanted to be a missionary. I didn't know what to do with the money that I was giving. I was so focused on getting to be a Mormon that I didn't even know if I was going to get baptized.\\n\\nI was a missionary at that time. I was making the difference in the world, and I was going to do something that the world couldn't do. I was going to do something that was going to change my life. I was going to do something that would save my life and be in\"}]\n"
     ]
    }
   ],
   "source": [
    "generator = pipeline('text-generation', model='gpt2')\n",
    "result = generator('Once upon a time,', max_length=30)\n",
    "print(result)"
   ]
  },
  {
   "cell_type": "markdown",
   "metadata": {},
   "source": [
    "## Tradução de Idiomas"
   ]
  },
  {
   "cell_type": "code",
   "execution_count": 18,
   "metadata": {},
   "outputs": [
    {
     "name": "stderr",
     "output_type": "stream",
     "text": [
      "No model was supplied, defaulted to google-t5/t5-base and revision a9723ea (https://huggingface.co/google-t5/t5-base).\n",
      "Using a pipeline without specifying a model name and revision in production is not recommended.\n",
      "Device set to use mps:0\n"
     ]
    },
    {
     "name": "stdout",
     "output_type": "stream",
     "text": [
      "[{'translation_text': \"L'apprentissage par machine est fantastique!\"}]\n"
     ]
    }
   ],
   "source": [
    "translator = pipeline('translation_en_to_fr')\n",
    "result = translator('Machine learning is amazing!')\n",
    "print(result)"
   ]
  },
  {
   "cell_type": "markdown",
   "metadata": {},
   "source": [
    "## Pergunta e Resposta com Contexto"
   ]
  },
  {
   "cell_type": "code",
   "execution_count": null,
   "metadata": {},
   "outputs": [],
   "source": [
    "qa = pipeline('question-answering')\n",
    "result = qa({\n",
    "  'context': 'Hugging Face is creating a tool that democratizes AI.',\n",
    "  'question': 'What is Hugging Face creating?'\n",
    "})\n",
    "print(result)"
   ]
  },
  {
   "cell_type": "markdown",
   "metadata": {},
   "source": [
    "## Trabalhar diretamente com modelos e tokenizadores"
   ]
  },
  {
   "cell_type": "code",
   "execution_count": null,
   "metadata": {},
   "outputs": [],
   "source": [
    "from transformers import AutoTokenizer, AutoModelForSequenceClassification\n",
    "\n",
    "tokenizer = AutoTokenizer.from_pretrained('distilbert-base-uncased-finetuned-sst-2-english')\n",
    "model = AutoModelForSequenceClassification.from_pretrained('distilbert-base-uncased-finetuned-sst-2-english')\n",
    "\n",
    "inputs = tokenizer('I love AI', return_tensors='pt')\n",
    "outputs = model(**inputs)\n",
    "print(outputs.logits)"
   ]
  },
  {
   "cell_type": "markdown",
   "metadata": {},
   "source": [
    "## Conclusão\n",
    "\n",
    "A Hugging Face facilita o uso de modelos de linguagem de ponta com poucas linhas de código."
   ]
  },
  {
   "cell_type": "markdown",
   "id": "ebc84092",
   "metadata": {},
   "source": []
  }
 ],
 "metadata": {
  "kernelspec": {
   "display_name": "gpuTorch",
   "language": "python",
   "name": "python3"
  },
  "language_info": {
   "codemirror_mode": {
    "name": "ipython",
    "version": 3
   },
   "file_extension": ".py",
   "mimetype": "text/x-python",
   "name": "python",
   "nbconvert_exporter": "python",
   "pygments_lexer": "ipython3",
   "version": "3.12.9"
  }
 },
 "nbformat": 4,
 "nbformat_minor": 5
}
