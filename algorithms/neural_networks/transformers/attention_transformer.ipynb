{
 "cells": [
  {
   "cell_type": "markdown",
   "metadata": {},
   "source": [
    "# Entendendo o Mecanismo de Atenção no Transformer\n",
    "Este notebook explica passo a passo como funciona o cálculo do mecanismo de Atenção Escalar e Multi-Head Attention no Transformer.\n",
    "\n",
    "Vamos construir um exemplo simples, ilustrando matematicamente e visualmente o processo de atenção."
   ]
  },
  {
   "cell_type": "code",
   "execution_count": null,
   "metadata": {},
   "outputs": [],
   "source": [
    "# Instalação (se necessário)\n",
    "!pip install numpy matplotlib torch"
   ]
  },
  {
   "cell_type": "markdown",
   "metadata": {},
   "source": [
    "## 1. Importação das bibliotecas necessárias"
   ]
  },
  {
   "cell_type": "code",
   "execution_count": 9,
   "metadata": {},
   "outputs": [],
   "source": [
    "import numpy as np\n",
    "import torch\n",
    "import torch.nn as nn\n",
    "import matplotlib.pyplot as plt"
   ]
  },
  {
   "cell_type": "markdown",
   "metadata": {},
   "source": [
    "## 2. Função de Atenção Escalar\n",
    "Implementando a fórmula:\n",
    "\n",
    "$Attention(Q, K, V) = softmax(\\frac{QK^T}{\\sqrt{d_k}})V$"
   ]
  },
  {
   "cell_type": "code",
   "execution_count": 10,
   "metadata": {},
   "outputs": [],
   "source": [
    "def scaled_dot_product_attention(Q, K, V):\n",
    "    d_k = Q.size(-1)\n",
    "    scores = torch.matmul(Q, K.transpose(-2, -1)) / np.sqrt(d_k)\n",
    "    attn = torch.softmax(scores, dim=-1)\n",
    "    output = torch.matmul(attn, V)\n",
    "    return output, attn"
   ]
  },
  {
   "cell_type": "markdown",
   "metadata": {},
   "source": [
    "## 3. Exemplo de Atenção Escalar\n",
    "Criamos vetores simples para entender os cálculos."
   ]
  },
  {
   "cell_type": "code",
   "execution_count": 11,
   "metadata": {},
   "outputs": [
    {
     "name": "stdout",
     "output_type": "stream",
     "text": [
      "Output: tensor([[0.6698, 0.3302],\n",
      "        [0.3302, 0.6698]])\n",
      "Attention Weights: tensor([[0.6698, 0.3302],\n",
      "        [0.3302, 0.6698]])\n"
     ]
    }
   ],
   "source": [
    "Q = torch.tensor([[1, 0], [0, 1]], dtype=torch.float32)\n",
    "K = torch.tensor([[1, 0], [0, 1]], dtype=torch.float32)\n",
    "V = torch.tensor([[1, 0], [0, 1]], dtype=torch.float32)\n",
    "\n",
    "output, attn = scaled_dot_product_attention(Q, K, V)\n",
    "\n",
    "print('Output:', output)\n",
    "print('Attention Weights:', attn)"
   ]
  },
  {
   "cell_type": "markdown",
   "metadata": {},
   "source": [
    "## 4. Visualizando os Pesos de Atenção"
   ]
  },
  {
   "cell_type": "code",
   "execution_count": 12,
   "metadata": {},
   "outputs": [
    {
     "data": {
      "image/png": "[encoded data removed]",
      "text/plain": [
       "<Figure size 500x400 with 2 Axes>"
      ]
     },
     "metadata": {},
     "output_type": "display_data"
    }
   ],
   "source": [
    "plt.figure(figsize=(5, 4))\n",
    "plt.title('Attention Weights')\n",
    "plt.imshow(attn.detach().numpy(), cmap='Blues')\n",
    "plt.xlabel('Keys')\n",
    "plt.ylabel('Queries')\n",
    "plt.colorbar()\n",
    "plt.show()"
   ]
  },
  {
   "cell_type": "markdown",
   "metadata": {},
   "source": [
    "## 5. Implementando Multi-Head Attention Manualmente\n",
    "Dividimos os vetores em múltiplas cabeças e aplicamos atenção em paralelo."
   ]
  },
  {
   "cell_type": "code",
   "execution_count": 13,
   "metadata": {},
   "outputs": [],
   "source": [
    "class MultiHeadAttention(nn.Module):\n",
    "    def __init__(self, embed_dim, num_heads):\n",
    "        super().__init__()\n",
    "        assert embed_dim % num_heads == 0\n",
    "        self.num_heads = num_heads\n",
    "        self.head_dim = embed_dim // num_heads\n",
    "\n",
    "        self.q_linear = nn.Linear(embed_dim, embed_dim)\n",
    "        self.k_linear = nn.Linear(embed_dim, embed_dim)\n",
    "        self.v_linear = nn.Linear(embed_dim, embed_dim)\n",
    "        self.out = nn.Linear(embed_dim, embed_dim)\n",
    "\n",
    "    def forward(self, query, key, value):\n",
    "        batch_size = query.size(0)\n",
    "\n",
    "        Q = self.q_linear(query)\n",
    "        K = self.k_linear(key)\n",
    "        V = self.v_linear(value)\n",
    "\n",
    "        Q = Q.view(batch_size, -1, self.num_heads, self.head_dim).transpose(1, 2)\n",
    "        K = K.view(batch_size, -1, self.num_heads, self.head_dim).transpose(1, 2)\n",
    "        V = V.view(batch_size, -1, self.num_heads, self.head_dim).transpose(1, 2)\n",
    "\n",
    "        output, attn = scaled_dot_product_attention(Q, K, V)\n",
    "\n",
    "        output = output.transpose(1, 2).contiguous().view(batch_size, -1, self.num_heads * self.head_dim)\n",
    "        return self.out(output), attn"
   ]
  },
  {
   "cell_type": "markdown",
   "metadata": {},
   "source": [
    "## 6. Exemplo com Multi-Head Attention"
   ]
  },
  {
   "cell_type": "code",
   "execution_count": 14,
   "metadata": {},
   "outputs": [
    {
     "name": "stdout",
     "output_type": "stream",
     "text": [
      "Output: tensor([[[-0.4658,  0.5896,  0.5650, -0.1854],\n",
      "         [-0.4690,  0.5917,  0.5664, -0.1876],\n",
      "         [-0.4700,  0.5921,  0.5666, -0.1882]]], grad_fn=<ViewBackward0>)\n",
      "Attention shape: torch.Size([1, 2, 3, 3])\n"
     ]
    }
   ],
   "source": [
    "embed_dim = 4\n",
    "num_heads = 2\n",
    "\n",
    "mha = MultiHeadAttention(embed_dim, num_heads)\n",
    "\n",
    "x = torch.rand(1, 3, embed_dim)  # (batch, seq_len, embed_dim)\n",
    "output, attn = mha(x, x, x)\n",
    "\n",
    "print('Output:', output)\n",
    "print('Attention shape:', attn.shape)"
   ]
  },
  {
   "cell_type": "code",
   "execution_count": null,
   "id": "56f40fd4",
   "metadata": {},
   "outputs": [],
   "source": [
    "# Suponha que temos uma sentença simulada\n",
    "tokens = [\"eu\", \"gosto\", \"de\", \"IA\"]\n",
    "\n",
    "# Para manter o exemplo coerente, vamos gerar tensores alinhados ao número de tokens\n",
    "seq_len = len(tokens)\n",
    "embed_dim = 4\n",
    "num_heads = 2\n",
    "\n",
    "# Criando uma instância de Multi-Head Attention\n",
    "mha = MultiHeadAttention(embed_dim, num_heads)\n",
    "\n",
    "# Criando embeddings simulados para a sentença\n",
    "x = torch.rand(1, seq_len, embed_dim)  # (batch, seq_len, embed_dim)\n",
    "\n",
    "# Executando atenção\n",
    "output, attn = mha(x, x, x)  # attn shape: (batch, num_heads, seq_len, seq_len)\n",
    "\n",
    "# Selecionando a primeira cabeça de atenção\n",
    "attn_matrix = attn[0, 0].detach().numpy()  # (seq_len, seq_len)\n",
    "\n",
    "# Plotando a matriz de atenção com rótulos\n",
    "plt.figure(figsize=(6, 5))\n",
    "plt.title('Mapa de Atenção (Cabeça 1)')\n",
    "plt.imshow(attn_matrix, cmap='Blues')\n",
    "\n",
    "plt.xticks(ticks=range(seq_len), labels=tokens)\n",
    "plt.yticks(ticks=range(seq_len), labels=tokens)\n",
    "\n",
    "plt.xlabel('Keys')\n",
    "plt.ylabel('Queries')\n",
    "\n",
    "plt.colorbar(label=\"Peso de Atenção\")\n",
    "plt.show()"
   ]
  },
  {
   "cell_type": "code",
   "execution_count": null,
   "id": "b8ddf104",
   "metadata": {},
   "outputs": [],
   "source": []
  }
 ],
 "metadata": {
  "kernelspec": {
   "display_name": "gpuTorch",
   "language": "python",
   "name": "python3"
  },
  "language_info": {
   "codemirror_mode": {
    "name": "ipython",
    "version": 3
   },
   "file_extension": ".py",
   "mimetype": "text/x-python",
   "name": "python",
   "nbconvert_exporter": "python",
   "pygments_lexer": "ipython3",
   "version": "3.12.9"
  }
 },
 "nbformat": 4,
 "nbformat_minor": 5
}
