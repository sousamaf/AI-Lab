{
 "cells": [
  {
   "cell_type": "markdown",
   "metadata": {},
   "source": [
    "# Resolvendo o XOR com Três Perceptrons\n",
    "\n",
    "Este notebook mostra como resolver o problema lógico do XOR utilizando três perceptrons simples, sem usar redes multicamadas com retropropagação.\n",
    "\n",
    "A lógica usada é baseada na decomposição do XOR:\n",
    "\n",
    "$$XOR(x_1, x_2) = (x_1 \\lor x_2) \\land \\neg(x_1 \\land x_2)$$\n",
    "\n",
    "Vamos treinar três Perceptrons para implementar essa lógica combinada."
   ]
  },
  {
   "cell_type": "markdown",
   "metadata": {},
   "source": [
    "## Arquitetura com 3 Perceptrons\n",
    "\n",
    "```\n",
    " x1 ---->┐\n",
    "         ├─> [P1: OR] ─┐\n",
    " x2 ---->┘             │\n",
    "                       ├─> [P3: XOR logic] ──> Saída\n",
    " x1 ---->┐             │\n",
    "         ├─> [P2: AND] ┘\n",
    " x2 ---->┘\n",
    "```\n",
    "\n",
    "- **P1:** aprende OR\n",
    "- **P2:** aprende AND\n",
    "- **P3:** recebe as saídas e fazer: `OR AND NOT(AND)`"
   ]
  },
  {
   "cell_type": "markdown",
   "metadata": {},
   "source": [
    "## Tabela de Verdade XOR com Intermediários\n",
    "\n",
    "| x1 | x2 | OR | AND | NOT(AND) | OR AND NOT(AND) = XOR |\n",
    "|----|----|----|-----|-----------|------------------------|\n",
    "| 0  | 0  | 0  |  0  |     1     |           0            |\n",
    "| 0  | 1  | 1  |  0  |     1     |           1            |\n",
    "| 1  | 0  | 1  |  0  |     1     |           1            |\n",
    "| 1  | 1  | 1  |  1  |     0     |           0            |"
   ]
  },
  {
   "cell_type": "code",
   "execution_count": 2,
   "metadata": {},
   "outputs": [],
   "source": [
    "# Importações e definição da função degrau\n",
    "import numpy as np\n",
    "\n",
    "def step_function(x):\n",
    "    return np.where(x >= 0, 1, 0)"
   ]
  },
  {
   "cell_type": "code",
   "execution_count": 3,
   "metadata": {},
   "outputs": [],
   "source": [
    "# Classe do Perceptron\n",
    "class Perceptron:\n",
    "    def __init__(self, input_size, learning_rate=1.0, epochs=10):\n",
    "        self.weights = np.zeros(input_size + 1)\n",
    "        self.learning_rate = learning_rate\n",
    "        self.epochs = epochs\n",
    "\n",
    "    def predict(self, x):\n",
    "        x_with_bias = np.insert(x, 0, 1)\n",
    "        weighted_sum = np.dot(self.weights, x_with_bias)\n",
    "        return int(step_function(weighted_sum)[()])\n",
    "\n",
    "    def fit(self, X, y):\n",
    "        for _ in range(self.epochs):\n",
    "            for xi, yi in zip(X, y):\n",
    "                xi_with_bias = np.insert(xi, 0, 1)\n",
    "                output = self.predict(xi)\n",
    "                error = yi - output\n",
    "                self.weights += self.learning_rate * error * xi_with_bias"
   ]
  },
  {
   "cell_type": "code",
   "execution_count": 4,
   "metadata": {},
   "outputs": [],
   "source": [
    "# Dados para as portas lógicas\n",
    "X = np.array([\n",
    "    [0, 0],\n",
    "    [0, 1],\n",
    "    [1, 0],\n",
    "    [1, 1],\n",
    "])\n",
    "\n",
    "y_or = np.array([0, 1, 1, 1])\n",
    "y_and = np.array([0, 0, 0, 1])\n",
    "y_xor = np.array([0, 1, 1, 0])"
   ]
  },
  {
   "cell_type": "code",
   "execution_count": 5,
   "metadata": {},
   "outputs": [],
   "source": [
    "# Treinamento dos perceptrons OR e AND\n",
    "p_or = Perceptron(input_size=2, learning_rate=0.1, epochs=10)\n",
    "p_and = Perceptron(input_size=2, learning_rate=0.1, epochs=10)\n",
    "\n",
    "p_or.fit(X, y_or)\n",
    "p_and.fit(X, y_and)"
   ]
  },
  {
   "cell_type": "code",
   "execution_count": 6,
   "metadata": {},
   "outputs": [],
   "source": [
    "# Criando entradas para o Perceptron final (XOR)\n",
    "intermediate = []\n",
    "for xi in X:\n",
    "    or_out = p_or.predict(xi)\n",
    "    and_out = p_and.predict(xi)\n",
    "    xor_input = np.array([or_out, 1 - and_out])\n",
    "    intermediate.append(xor_input)\n",
    "\n",
    "intermediate = np.array(intermediate)"
   ]
  },
  {
   "cell_type": "code",
   "execution_count": 7,
   "metadata": {},
   "outputs": [],
   "source": [
    "# Treinamento do perceptron final para XOR\n",
    "p_xor = Perceptron(input_size=2, learning_rate=0.1, epochs=10)\n",
    "p_xor.fit(intermediate, y_xor)"
   ]
  },
  {
   "cell_type": "code",
   "execution_count": 8,
   "metadata": {},
   "outputs": [
    {
     "name": "stdout",
     "output_type": "stream",
     "text": [
      "Teste do sistema composto de Perceptrons para XOR:\n",
      "Entrada: [0 0], Saída XOR prevista: 0\n",
      "Entrada: [0 1], Saída XOR prevista: 1\n",
      "Entrada: [1 0], Saída XOR prevista: 1\n",
      "Entrada: [1 1], Saída XOR prevista: 0\n"
     ]
    }
   ],
   "source": [
    "# Testando o sistema encadeado\n",
    "print(\"Teste do sistema composto de Perceptrons para XOR:\")\n",
    "for xi in X:\n",
    "    or_out = p_or.predict(xi)\n",
    "    and_out = p_and.predict(xi)\n",
    "    xor_input = np.array([or_out, 1 - and_out])\n",
    "    xor_out = p_xor.predict(xor_input)\n",
    "    print(f\"Entrada: {xi}, Saída XOR prevista: {xor_out}\")"
   ]
  },
  {
   "cell_type": "code",
   "execution_count": null,
   "metadata": {},
   "outputs": [],
   "source": []
  }
 ],
 "metadata": {
  "kernelspec": {
   "display_name": "base",
   "language": "python",
   "name": "python3"
  },
  "language_info": {
   "codemirror_mode": {
    "name": "ipython",
    "version": 3
   },
   "file_extension": ".py",
   "mimetype": "text/x-python",
   "name": "python",
   "nbconvert_exporter": "python",
   "pygments_lexer": "ipython3",
   "version": "3.12.9"
  }
 },
 "nbformat": 4,
 "nbformat_minor": 2
}
