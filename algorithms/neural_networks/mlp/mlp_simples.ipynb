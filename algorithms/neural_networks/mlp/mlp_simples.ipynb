{
 "cells": [
  {
   "cell_type": "markdown",
   "metadata": {},
   "source": [
    "# MLP Simples\n"
   ]
  },
  {
   "cell_type": "code",
   "execution_count": 2,
   "metadata": {},
   "outputs": [],
   "source": [
    "import numpy as np\n",
    "\n",
    "# Função de ativação sigmoid\n",
    "def sigmoid(x):\n",
    "    return 1 / (1 + np.exp(-x))\n",
    "\n",
    "# Derivada da função sigmoid\n",
    "def sigmoid_derivative(x):\n",
    "    return x * (1 - x)"
   ]
  },
  {
   "cell_type": "code",
   "execution_count": 29,
   "metadata": {},
   "outputs": [],
   "source": [
    "# Classe da Rede Neural Multicamadas\n",
    "class NeuralNetwork:\n",
    "    def __init__(self, input_size, hidden_sizes, output_size, learning_rate=0.1, epochs=10000):\n",
    "        # Inicializa os parâmetros\n",
    "        self.learning_rate = learning_rate\n",
    "        self.epochs = epochs\n",
    "        \n",
    "        # Lista de pesos para cada camada\n",
    "        layer_sizes = [input_size] + hidden_sizes + [output_size]\n",
    "        \n",
    "        self.weights = []\n",
    "        for i in range(len(layer_sizes) - 1):\n",
    "            # Pesos inicializados aleatoriamente\n",
    "            weight_matrix = np.random.uniform(-1, 1, (layer_sizes[i], layer_sizes[i+1]))\n",
    "            self.weights.append(weight_matrix)\n",
    "    \n",
    "    def feedforward(self, x):\n",
    "        activations = [x]\n",
    "        input = x\n",
    "        # Propagação para frente\n",
    "        for weight in self.weights:\n",
    "            net_input = np.dot(input, weight)\n",
    "            activation = sigmoid(net_input)\n",
    "            activations.append(activation)\n",
    "            input = activation\n",
    "        return activations\n",
    "    \n",
    "    def backpropagation(self, activations, y_true):\n",
    "        # Calcula o erro na saída\n",
    "        error = y_true - activations[-1]\n",
    "        deltas = [error * sigmoid_derivative(activations[-1])]\n",
    "        \n",
    "        # Propaga o erro para trás\n",
    "        for i in reversed(range(len(self.weights)-1)):\n",
    "            delta = deltas[-1].dot(self.weights[i+1].T) * sigmoid_derivative(activations[i+1])\n",
    "            deltas.append(delta)\n",
    "        \n",
    "        deltas.reverse()\n",
    "        # Atualiza os pesos\n",
    "        for i in range(len(self.weights)):\n",
    "            layer_input = np.atleast_2d(activations[i])\n",
    "            delta = np.atleast_2d(deltas[i])\n",
    "            self.weights[i] += self.learning_rate * layer_input.T.dot(delta)\n",
    "    \n",
    "    def train(self, X, y):\n",
    "        for epoch in range(self.epochs):\n",
    "            for xi, yi in zip(X, y):\n",
    "                activations = self.feedforward(xi)\n",
    "                self.backpropagation(activations, yi)\n",
    "            # Opcional: Impressão do erro a cada 1000 épocas\n",
    "            if epoch % 1000 == 0:\n",
    "                loss = np.mean(np.square(y - self.predict(X)))\n",
    "                print(f\"Época {epoch}, Erro: {loss}\")\n",
    "\n",
    "    def predict(self, X):\n",
    "        y_pred = []\n",
    "        for xi in X:\n",
    "            activations = self.feedforward(xi)\n",
    "            y_pred.append(activations[-1])\n",
    "        return np.array(y_pred)\n"
   ]
  },
  {
   "cell_type": "code",
   "execution_count": 30,
   "metadata": {},
   "outputs": [
    {
     "name": "stdout",
     "output_type": "stream",
     "text": [
      "Época 0, Erro: 0.27945028896895113\n",
      "Época 1000, Erro: 0.2493013020378153\n",
      "Época 2000, Erro: 0.2366681402476513\n",
      "Época 3000, Erro: 0.18330906303639655\n",
      "Época 4000, Erro: 0.14368741599796597\n",
      "Época 5000, Erro: 0.0932391734779163\n",
      "Época 6000, Erro: 0.043195906851656585\n",
      "Época 7000, Erro: 0.021498028312117057\n",
      "Época 8000, Erro: 0.013589136267755984\n",
      "Época 9000, Erro: 0.009857688497691693\n",
      "\n",
      "Resultados:\n",
      "Entrada: [0 0], Saída Prevista: [0.]\n",
      "Entrada: [0 1], Saída Prevista: [1.]\n",
      "Entrada: [1 0], Saída Prevista: [1.]\n",
      "Entrada: [1 1], Saída Prevista: [0.]\n"
     ]
    }
   ],
   "source": [
    "\n",
    "# Exemplo de uso\n",
    "if __name__ == \"__main__\":\n",
    "    # Dados de entrada (função XOR)\n",
    "    X = np.array([\n",
    "        [0, 0],\n",
    "        [0, 1],\n",
    "        [1, 0],\n",
    "        [1, 1],\n",
    "    ])\n",
    "    \n",
    "    # Saídas desejadas\n",
    "    y = np.array([\n",
    "        [0],\n",
    "        [1],\n",
    "        [1],\n",
    "        [0],\n",
    "    ])\n",
    "    \n",
    "    # Cria a rede neural com uma camada oculta de 2 neurônios\n",
    "    nn = NeuralNetwork(input_size=2, hidden_sizes=[4], output_size=1, learning_rate=0.1, epochs=10000)\n",
    "    \n",
    "    # Treina a rede neural\n",
    "    nn.train(X, y)\n",
    "    \n",
    "    # # Testa a rede neural\n",
    "    outputs = nn.predict(X)\n",
    "    print(\"\\nResultados:\")\n",
    "    for xi, yi_pred in zip(X, outputs):\n",
    "        print(f\"Entrada: {xi}, Saída Prevista: {yi_pred.round()}\")  # Arredonda a saída\n"
   ]
  }
 ],
 "metadata": {
  "kernelspec": {
   "display_name": "gpuTorch",
   "language": "python",
   "name": "python3"
  },
  "language_info": {
   "codemirror_mode": {
    "name": "ipython",
    "version": 3
   },
   "file_extension": ".py",
   "mimetype": "text/x-python",
   "name": "python",
   "nbconvert_exporter": "python",
   "pygments_lexer": "ipython3",
   "version": "3.12.9"
  }
 },
 "nbformat": 4,
 "nbformat_minor": 2
}
