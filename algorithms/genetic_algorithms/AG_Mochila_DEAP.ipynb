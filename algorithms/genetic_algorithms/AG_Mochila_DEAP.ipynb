{
 "cells": [
  {
   "cell_type": "markdown",
   "id": "5809e383",
   "metadata": {},
   "source": [
    "\n",
    "# Algoritmo Genético para o Problema da Mochila usando DEAP\n",
    "\n",
    "Este notebook implementa o problema clássico da **Mochila (Knapsack)** utilizando a biblioteca **[DEAP](https://deap.readthedocs.io/)**.  \n",
    "\n",
    "O problema consiste em selecionar itens com diferentes valores e pesos para maximizar o valor total, respeitando uma capacidade máxima de uma mochila.\n"
   ]
  },
  {
   "cell_type": "code",
   "execution_count": null,
   "id": "a6f29a97",
   "metadata": {},
   "outputs": [],
   "source": [
    "# Instalar DEAP (se necessário)\n",
    "# !pip install deap\n"
   ]
  },
  {
   "cell_type": "code",
   "execution_count": 1,
   "id": "84d1375e",
   "metadata": {},
   "outputs": [],
   "source": [
    "import random\n",
    "import numpy as np\n",
    "import matplotlib.pyplot as plt\n",
    "from deap import base, creator, tools\n",
    "import pandas as pd\n",
    "from random import sample\n",
    "\n",
    "\n",
    "# Configuração para gráficos no notebook\n",
    "%matplotlib inline\n"
   ]
  },
  {
   "cell_type": "markdown",
   "id": "8d0e5483",
   "metadata": {},
   "source": [
    "# Documentação didática\n",
    "\n",
    "Definição manual dos itens disponíveis para o problema da mochila, especificando o valor e o peso de cada item em uma lista chamada `itens`. \n",
    "\n",
    "Também é definida a capacidade máxima da mochila (`CAPACIDADE`) e o número de genes (`NUM_GENES`), que corresponde à quantidade de itens. \n",
    "\n",
    "Essas variáveis são utilizadas para configurar o algoritmo genético, pois determinam as restrições e o espaço de busca das soluções possíveis. Ao final, a célula imprime os itens carregados e a capacidade da mochila, permitindo ao usuário conferir os dados que serão utilizados nas etapas seguintes do algoritmo."
   ]
  },
  {
   "cell_type": "code",
   "execution_count": 2,
   "id": "08405253",
   "metadata": {},
   "outputs": [
    {
     "name": "stdout",
     "output_type": "stream",
     "text": [
      "Itens carregados: [(60, 1.3), (100, 2.0), (120, 3.0), (80, 1.5), (30, 0.5), (90, 1.2), (70, 0.8)]\n",
      "Capacidade da mochila: 6\n"
     ]
    }
   ],
   "source": [
    "    # Definição manual dos itens (valor, peso)\n",
    "itens = [\n",
    "    (60, 1.3),   # Livro 1: valor R$ 60, peso 1.3 kg\n",
    "    (100, 2.0),  # Livro 2: valor R$ 100, peso 2.0 kg\n",
    "    (120, 3.0),  # Livro 3: valor R$ 120, peso 3.0 kg\n",
    "    (80, 1.5),   # Livro 4: valor R$ 80, peso 1.5 kg\n",
    "    (30, 0.5),   # Livro 5: valor R$ 30, peso 0.5 kg\n",
    "    (90, 1.2),   # Livro 6: valor R$ 90, peso 1.2 kg\n",
    "    (70, 0.8)    # Livro 7: valor R$ 70, peso 0.8 kg\n",
    "]\n",
    "CAPACIDADE = 6  # Capacidade máxima da mochila em kg\n",
    "NUM_GENES = len(itens)\n",
    "\n",
    "print(f\"Itens carregados: {itens}\")\n",
    "print(f\"Capacidade da mochila: {CAPACIDADE}\")"
   ]
  },
  {
   "cell_type": "markdown",
   "id": "8b39945a",
   "metadata": {},
   "source": [
    "# Configuração das classes e operadores do Algoritmo Genético\n",
    "\n",
    "Definição das estruturas fundamentais para o funcionamento do Algoritmo Genético utilizando a biblioteca DEAP. São criadas as classes de fitness (aptidão) e de indivíduo, que representam possíveis soluções para o problema da mochila. \n",
    "\n",
    "Além disso, a célula registra funções para gerar genes binários (0 ou 1), construir indivíduos (listas de genes) e populações (listas de indivíduos). Essas definições permitem que o algoritmo possa criar, manipular e evoluir soluções ao longo das gerações, buscando maximizar o valor total dos itens selecionados sem ultrapassar a capacidade da mochila."
   ]
  },
  {
   "cell_type": "code",
   "execution_count": 3,
   "id": "fc6e0265",
   "metadata": {},
   "outputs": [],
   "source": [
    "# Criar classes de Fitness e Indivíduo\n",
    "creator.create(\"Fitness\", base.Fitness, weights=(1.0,))  # Maximização\n",
    "creator.create(\"Individuo\", list, fitness=creator.Fitness)\n",
    "\n",
    "toolbox = base.Toolbox()\n",
    "\n",
    "# Inicialização dos indivíduos: lista de 0s e 1s (binário)\n",
    "toolbox.register(\"attr_bool\", random.randint, 0, 1)\n",
    "toolbox.register(\"individuo\", tools.initRepeat, creator.Individuo, toolbox.attr_bool, n=NUM_GENES)\n",
    "toolbox.register(\"populacao\", tools.initRepeat, list, toolbox.individuo)\n"
   ]
  },
  {
   "cell_type": "markdown",
   "id": "f13d9551",
   "metadata": {},
   "source": [
    "# Função de Avaliação para o Algoritmo Genético\n",
    "\n",
    "Definição da função de avaliação `avaliar` do Algoritmo Genético aplicado ao problema da mochila. Essa função recebe um indivíduo (solução candidata representada por uma lista de genes binários) e calcula o valor total e o peso total dos itens selecionados.\n",
    "\n",
    "Se o peso total ultrapassar a capacidade máxima da mochila (`CAPACIDADE`), a função retorna um valor de fitness igual a zero, penalizando soluções inviáveis. Caso contrário, retorna o valor total dos itens selecionados, que é o objetivo a ser maximizado pelo algoritmo.\n",
    "\n",
    "Por fim, a função de avaliação é registrada no `toolbox` da biblioteca DEAP, permitindo que seja utilizada automaticamente durante o processo evolutivo."
   ]
  },
  {
   "cell_type": "code",
   "execution_count": 4,
   "id": "7178b464",
   "metadata": {},
   "outputs": [],
   "source": [
    "def avaliar(individuo):\n",
    "    valor = 0\n",
    "    peso = 0\n",
    "    for gene, (v, p) in zip(individuo, itens):\n",
    "        if gene == 1:\n",
    "            valor += v\n",
    "            peso += p\n",
    "    if peso > CAPACIDADE:\n",
    "        return 0,  # Penalização por ultrapassar capacidade\n",
    "    return valor,\n",
    "\n",
    "toolbox.register(\"evaluate\", avaliar)\n"
   ]
  },
  {
   "cell_type": "markdown",
   "id": "1ab38744",
   "metadata": {
    "vscode": {
     "languageId": "ini"
    }
   },
   "source": [
    "# Operadores Genéticos do Algoritmo Genético\n",
    "\n",
    "Definição dos principais operadores genéticos utilizados no Algoritmo Genético com a biblioteca DEAP: cruzamento (crossover), mutação e seleção. \n",
    "\n",
    "- **Cruzamento (mate):** Utiliza o operador de crossover de dois pontos (`cxTwoPoint`), que combina partes de dois indivíduos para gerar novos descendentes, promovendo a recombinação de características.\n",
    "\n",
    "- **Mutação (mutate):** Aplica a mutação do tipo bit-flip (`mutFlipBit`), que inverte bits individuais de um indivíduo com uma probabilidade definida, introduzindo diversidade genética na população.\n",
    "\n",
    "- **Seleção (select):** Utiliza o método de torneio (`selTournament`), onde um grupo de indivíduos é selecionado aleatoriamente e o melhor entre eles é escolhido para compor a próxima geração.\n",
    "\n"
   ]
  },
  {
   "cell_type": "code",
   "execution_count": 5,
   "id": "38149d51",
   "metadata": {},
   "outputs": [],
   "source": [
    "\n",
    "toolbox.register(\"mate\", tools.cxTwoPoint)      # Crossover de 2 pontos\n",
    "toolbox.register(\"mutate\", tools.mutFlipBit, indpb=0.1)  # Mutação bit-flip\n",
    "toolbox.register(\"select\", tools.selTournament, tournsize=3)  # Seleção por torneio\n"
   ]
  },
  {
   "cell_type": "markdown",
   "id": "a5e396b4",
   "metadata": {},
   "source": [
    "# Execução do Algoritmo Genético e Visualização dos Resultados\n",
    "\n",
    "Execução do Algoritmo Genético para resolver o problema da mochila utilizando os operadores e parâmetros definidos anteriormente. Inicialmente, uma população de soluções é criada e avaliada. Em seguida, o algoritmo evolui essa população ao longo de várias gerações, aplicando operadores de seleção, cruzamento e mutação para buscar soluções cada vez melhores.\n",
    "\n",
    "Durante o processo, são registradas estatísticas como o melhor valor de fitness e a média da população em cada geração. Ao final, a célula gera um gráfico que mostra a evolução do melhor fitness e do fitness médio ao longo das gerações, permitindo visualizar o desempenho do algoritmo e a convergência das soluções."
   ]
  },
  {
   "cell_type": "code",
   "execution_count": 16,
   "id": "aa8306a9",
   "metadata": {},
   "outputs": [
    {
     "data": {
      "image/png": "[encoded data removed]",
      "text/plain": [
       "<Figure size 800x500 with 1 Axes>"
      ]
     },
     "metadata": {},
     "output_type": "display_data"
    }
   ],
   "source": [
    "\n",
    "# Parâmetros do AG\n",
    "TAM_POP = 50\n",
    "NUM_GER = 50\n",
    "PROB_CROSS = 0.7\n",
    "PROB_MUT = 0.2\n",
    "\n",
    "pop = toolbox.populacao(n=TAM_POP)\n",
    "\n",
    "# Avaliar população inicial\n",
    "for ind in pop:\n",
    "    ind.fitness.values = toolbox.evaluate(ind)\n",
    "\n",
    "melhores = []\n",
    "medias = []\n",
    "\n",
    "for ger in range(NUM_GER):\n",
    "    filhos = toolbox.select(pop, len(pop))\n",
    "    filhos = list(map(toolbox.clone, filhos))\n",
    "    \n",
    "    # Crossover\n",
    "    for c1, c2 in zip(filhos[::2], filhos[1::2]):\n",
    "        if random.random() < PROB_CROSS:\n",
    "            toolbox.mate(c1, c2)\n",
    "            del c1.fitness.values\n",
    "            del c2.fitness.values\n",
    "    \n",
    "    # Mutação\n",
    "    for mutante in filhos:\n",
    "        if random.random() < PROB_MUT:\n",
    "            toolbox.mutate(mutante)\n",
    "            del mutante.fitness.values\n",
    "    \n",
    "    # Avaliar indivíduos inválidos\n",
    "    invalidos = [ind for ind in filhos if not ind.fitness.valid]\n",
    "    for ind in invalidos:\n",
    "        ind.fitness.values = toolbox.evaluate(ind)\n",
    "    \n",
    "    # Atualizar população\n",
    "    pop[:] = filhos\n",
    "    \n",
    "    # Estatísticas\n",
    "    fits = [ind.fitness.values[0] for ind in pop]\n",
    "    melhores.append(max(fits))\n",
    "    medias.append(np.mean(fits))\n",
    "\n",
    "# Plotar evolução\n",
    "plt.figure(figsize=(8,5))\n",
    "plt.plot(melhores, label=\"Melhor Fitness\")\n",
    "plt.plot(medias, label=\"Fitness Médio\")\n",
    "plt.xlabel(\"Geração\")\n",
    "plt.ylabel(\"Fitness\")\n",
    "plt.title(\"Evolução do Algoritmo Genético - Problema da Mochila\")\n",
    "plt.legend()\n",
    "plt.grid()\n",
    "plt.show()"
   ]
  },
  {
   "cell_type": "code",
   "execution_count": 17,
   "id": "6203edc2",
   "metadata": {},
   "outputs": [
    {
     "name": "stdout",
     "output_type": "stream",
     "text": [
      "Melhor solução encontrada: [0, 1, 0, 1, 1, 1, 1]\n",
      "Valor: 370\n",
      "Peso: 6.0\n"
     ]
    }
   ],
   "source": [
    "\n",
    "melhor = tools.selBest(pop, k=1)[0]\n",
    "print(\"Melhor solução encontrada:\", melhor)\n",
    "print(\"Valor:\", avaliar(melhor)[0])\n",
    "print(\"Peso:\", sum([p for gene,(v,p) in zip(melhor,itens) if gene==1]))\n"
   ]
  },
  {
   "cell_type": "code",
   "execution_count": null,
   "id": "ee86949f",
   "metadata": {},
   "outputs": [],
   "source": []
  }
 ],
 "metadata": {
  "kernelspec": {
   "display_name": "gpuTorch",
   "language": "python",
   "name": "python3"
  },
  "language_info": {
   "codemirror_mode": {
    "name": "ipython",
    "version": 3
   },
   "file_extension": ".py",
   "mimetype": "text/x-python",
   "name": "python",
   "nbconvert_exporter": "python",
   "pygments_lexer": "ipython3",
   "version": "3.12.9"
  }
 },
 "nbformat": 4,
 "nbformat_minor": 5
}
