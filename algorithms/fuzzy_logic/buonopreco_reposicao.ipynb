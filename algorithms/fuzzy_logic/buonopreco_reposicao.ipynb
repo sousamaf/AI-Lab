{
 "cells": [
  {
   "cell_type": "markdown",
   "id": "81fa73ae",
   "metadata": {},
   "source": [
    "# Prioridade de Reposição de Produtos no BuonoPreço\n",
    "\n",
    "**Contexto aplicado:**\n",
    "- O supermercado BuonoPreço deseja automatizar a reposição de produtos com base em dois fatores:\n",
    "  - O nível atual de estoque.\n",
    "  - A taxa de venda do produto nos últimos dias.\n",
    "- O objetivo é priorizar corretamente os produtos mais críticos, evitando rupturas ou excesso de estoque.\n",
    "\n",
    "### Instalação do scikit-fuzzy (se necessário)\n",
    "\n",
    "Pip:\n",
    "```\n",
    "pip install scikit-fuzzy\n",
    "```\n"
   ]
  },
  {
   "cell_type": "code",
   "execution_count": 23,
   "id": "a0bbe419",
   "metadata": {},
   "outputs": [],
   "source": [
    "# Na primeira execução, instale o scikit-fuzzy. Basta descomentar a linha abaixo.\n",
    "#!pip install -U scikit-fuzzy"
   ]
  },
  {
   "cell_type": "markdown",
   "id": "6643442d",
   "metadata": {},
   "source": [
    "### Variáveis linguísticas e funções de pertinências\n",
    "\n",
    "O BuonoPreço deseja automatizar a decisão de quais produtos devem ser repostos com maior prioridade, com base em:\n",
    "\n",
    "- Nível de Estoque (baixa, média, alta)\n",
    "- Taxa de Venda (lenta, média, rápida)\n",
    "\n",
    "A saída será uma prioridade de reposição (baixa, média, alta)."
   ]
  },
  {
   "cell_type": "code",
   "execution_count": null,
   "id": "4ad4fbdb",
   "metadata": {},
   "outputs": [],
   "source": [
    "%matplotlib inline\n",
    "import numpy as np\n",
    "import skfuzzy as fuzz\n",
    "from skfuzzy import control as ctrl\n",
    "import matplotlib.pyplot as plt\n",
    "\n",
    "# Definindo as variáveis de entrada e saída\n",
    "nivel_estoque = ctrl.Antecedent(np.arange(0, 101, 1), 'nivel_estoque')\n",
    "taxa_de_venda = ctrl.Antecedent(np.arange(0, 101, 1), 'taxa_de_venda')\n",
    "prioridade_de_reposicao = ctrl.Consequent(np.arange(0, 101, 1), 'prioridade_de_reposicao')\n",
    "\n",
    "# Funções de pertinência para o nível de estoque\n",
    "nivel_estoque['baixo'] = fuzz.trimf(nivel_estoque.universe, [0, 0, 50])\n",
    "nivel_estoque['medio'] = fuzz.trimf(nivel_estoque.universe, [30, 50, 70])\n",
    "nivel_estoque['alto'] = fuzz.trimf(nivel_estoque.universe, [50, 100, 100])\n",
    "\n",
    "# Funções de pertinência para a taxa de venda\n",
    "taxa_de_venda['lenta'] = fuzz.trimf(taxa_de_venda.universe, [0, 0, 50])\n",
    "taxa_de_venda['media'] = fuzz.trimf(taxa_de_venda.universe, [30, 50, 70])\n",
    "taxa_de_venda['rapida'] = fuzz.trimf(taxa_de_venda.universe, [50, 100, 100])\n",
    "\n",
    "# Funções de pertinência para a prioridade de reposição\n",
    "prioridade_de_reposicao['baixa'] = fuzz.trimf(prioridade_de_reposicao.universe, [0, 0, 50])\n",
    "prioridade_de_reposicao['media'] = fuzz.trimf(prioridade_de_reposicao.universe, [30, 50, 70])\n",
    "prioridade_de_reposicao['alta'] = fuzz.trimf(prioridade_de_reposicao.universe, [50, 100, 100])\n",
    "\n",
    "# Visualização (opcional)\n",
    "nivel_estoque.view()\n",
    "taxa_de_venda.view()\n",
    "prioridade_de_reposicao.view()\n"
   ]
  },
  {
   "cell_type": "markdown",
   "id": "27cdcb08",
   "metadata": {},
   "source": [
    "### Regras Fuzzy do Sistema de Reposição BuonoPreço\n",
    "\n",
    "As regras a seguir determinam a **prioridade de reposição** de um produto com base no **nível de estoque** atual e na **taxa de venda** observada:\n",
    "\n",
    "1. **SE** o nível de estoque é **baixo** **E** a taxa de venda é **rápida**, **ENTÃO** a prioridade de reposição é **alta**.\n",
    "2. **SE** o nível de estoque é **baixo** **E** a taxa de venda é **média**, **ENTÃO** a prioridade de reposição é **alta**.\n",
    "3. **SE** o nível de estoque é **baixo** **E** a taxa de venda é **lenta**, **ENTÃO** a prioridade de reposição é **média**.\n",
    "4. **SE** o nível de estoque é **médio** **E** a taxa de venda é **rápida**, **ENTÃO** a prioridade de reposição é **alta**.\n",
    "5. **SE** o nível de estoque é **médio** **E** a taxa de venda é **média**, **ENTÃO** a prioridade de reposição é **média**.\n",
    "6. **SE** o nível de estoque é **médio** **E** a taxa de venda é **lenta**, **ENTÃO** a prioridade de reposição é **baixa**.\n",
    "7. **SE** o nível de estoque é **alto** **E** a taxa de venda é **rápida**, **ENTÃO** a prioridade de reposição é **média**.\n",
    "8. **SE** o nível de estoque é **alto** **E** a taxa de venda é **média**, **ENTÃO** a prioridade de reposição é **baixa**.\n",
    "9. **SE** o nível de estoque é **alto** **E** a taxa de venda é **lenta**, **ENTÃO** a prioridade de reposição é **baixa**."
   ]
  },
  {
   "cell_type": "code",
   "execution_count": null,
   "id": "ce7140e1",
   "metadata": {},
   "outputs": [],
   "source": [
    "# Regras fuzzy\n",
    "regra1 = ctrl.Rule(nivel_estoque['baixo'] & taxa_de_venda['rapida'], prioridade_de_reposicao['alta'])\n",
    "regra2 = ctrl.Rule(nivel_estoque['baixo'] & taxa_de_venda['media'], prioridade_de_reposicao['alta'])\n",
    "regra3 = ctrl.Rule(nivel_estoque['baixo'] & taxa_de_venda['lenta'], prioridade_de_reposicao['media'])\n",
    "regra4 = ctrl.Rule(nivel_estoque['medio'] & taxa_de_venda['rapida'], prioridade_de_reposicao['alta'])\n",
    "regra5 = ctrl.Rule(nivel_estoque['medio'] & taxa_de_venda['media'], prioridade_de_reposicao['media'])\n",
    "regra6 = ctrl.Rule(nivel_estoque['medio'] & taxa_de_venda['lenta'], prioridade_de_reposicao['baixa'])\n",
    "regra7 = ctrl.Rule(nivel_estoque['alto'] & taxa_de_venda['rapida'], prioridade_de_reposicao['media'])\n",
    "regra8 = ctrl.Rule(nivel_estoque['alto'] & taxa_de_venda['media'], prioridade_de_reposicao['baixa'])\n",
    "regra9 = ctrl.Rule(nivel_estoque['alto'] & taxa_de_venda['lenta'], prioridade_de_reposicao['baixa'])\n",
    "\n",
    "# Sistema de controle e simulação\n",
    "controle_de_reabastecimento = ctrl.ControlSystem([regra1, regra2, regra3, regra4, regra5, regra6, regra7, regra8, regra9])\n",
    "simulacao_de_reabastecimento = ctrl.ControlSystemSimulation(controle_de_reabastecimento)\n"
   ]
  },
  {
   "cell_type": "code",
   "execution_count": null,
   "id": "8e0a7566",
   "metadata": {},
   "outputs": [],
   "source": [
    "# Exemplo de entrada\n",
    "simulacao_de_reabastecimento.input['nivel_estoque'] = 45  # estoque baixo\n",
    "simulacao_de_reabastecimento.input['taxa_de_venda'] = 60  # vendas rápidas\n",
    "\n",
    "# Processar\n",
    "simulacao_de_reabastecimento.compute()\n",
    "print(\"Prioridade calculada para reposição:\", simulacao_de_reabastecimento.output['prioridade_de_reposicao'])\n",
    "\n",
    "# Visualização do resultado\n",
    "prioridade_de_reposicao.view(sim=simulacao_de_reabastecimento)\n",
    "plt.show()\n"
   ]
  },
  {
   "cell_type": "code",
   "execution_count": null,
   "id": "75dee0a0",
   "metadata": {},
   "outputs": [],
   "source": [
    "# Simulação em lote de produtos com base em estoque e taxa de venda\n",
    "produtos = [\n",
    "    {\"descricao\": \"Arroz 5kg\", \"preco\": 22.90, \"estoque\": 30, \"estoque_max\": 100, \"vendas_dia_anterior\": 12, \"vendas_semana\": 70},\n",
    "    {\"descricao\": \"Feijão 1kg\", \"preco\": 7.50, \"estoque\": 10, \"estoque_max\": 80, \"vendas_dia_anterior\": 9, \"vendas_semana\": 60},\n",
    "    {\"descricao\": \"Café 500g\", \"preco\": 14.20, \"estoque\": 50, \"estoque_max\": 80, \"vendas_dia_anterior\": 6, \"vendas_semana\": 30},\n",
    "    {\"descricao\": \"Sabão 1kg\", \"preco\": 8.90, \"estoque\": 70, \"estoque_max\": 100, \"vendas_dia_anterior\": 3, \"vendas_semana\": 15},\n",
    "    {\"descricao\": \"Leite 1L\", \"preco\": 4.79, \"estoque\": 20, \"estoque_max\": 100, \"vendas_dia_anterior\": 20, \"vendas_semana\": 130},\n",
    "]\n",
    "\n",
    "resultado_prioridades = []\n",
    "\n",
    "for produto in produtos:\n",
    "    # Cálculo da taxa de venda normalizada (média ponderada do dia e da semana)\n",
    "    taxa_venda = (produto['vendas_dia_anterior'] * 0.4 + produto['vendas_semana'] * 0.6)\n",
    "    taxa_venda = min(100, taxa_venda)  # normalização simples para 0 a 100\n",
    "\n",
    "    # Cálculo do nível de estoque relativo\n",
    "    nivel_estoque = 100 * (produto['estoque'] / produto['estoque_max'])\n",
    "\n",
    "    # Simulação\n",
    "    simulacao_de_reabastecimento.input['nivel_estoque'] = nivel_estoque\n",
    "    simulacao_de_reabastecimento.input['taxa_de_venda'] = taxa_venda\n",
    "    simulacao_de_reabastecimento.compute()\n",
    "\n",
    "    prioridade = simulacao_de_reabastecimento.output['prioridade_de_reposicao']\n",
    "    resultado_prioridades.append({\n",
    "        \"descricao\": produto['descricao'],\n",
    "        \"prioridade\": prioridade,\n",
    "        \"estoque_atual\": produto['estoque'],\n",
    "        \"vendas_dia_anterior\": produto['vendas_dia_anterior'],\n",
    "        \"vendas_semana\": produto['vendas_semana']\n",
    "    })\n",
    "\n",
    "# Ordenar e exibir\n",
    "resultado_ordenado = sorted(resultado_prioridades, key=lambda x: x['prioridade'], reverse=True)\n",
    "\n",
    "print(\"Ranking de prioridade de reposição:\\n\")\n",
    "for item in resultado_ordenado:\n",
    "    print(f\"{item['descricao']}: \\t Prioridade = {item['prioridade']:.2f} \\t | \\t Estoque = {item['estoque_atual']} \\t | \\t Vendas Semanais = {item['vendas_semana']}\")"
   ]
  },
  {
   "cell_type": "code",
   "execution_count": null,
   "id": "37e22217",
   "metadata": {},
   "outputs": [],
   "source": []
  }
 ],
 "metadata": {
  "kernelspec": {
   "display_name": "gpuTorch",
   "language": "python",
   "name": "python3"
  },
  "language_info": {
   "codemirror_mode": {
    "name": "ipython",
    "version": 3
   },
   "file_extension": ".py",
   "mimetype": "text/x-python",
   "name": "python",
   "nbconvert_exporter": "python",
   "pygments_lexer": "ipython3",
   "version": "3.12.9"
  }
 },
 "nbformat": 4,
 "nbformat_minor": 5
}
