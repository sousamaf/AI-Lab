{
 "cells": [
  {
   "cell_type": "markdown",
   "id": "c98cad16",
   "metadata": {},
   "source": [
    "\n",
    "# Atividade Resolvida\n",
    "\n",
    "### Classificação de Clientes no BuonoPreço com SVM (RBF)\n",
    "\n",
    "Este notebook implementa uma solução completa para o problema de **classificação de clientes** usando **Support Vector Machines (SVM)** com kernel **RBF**.\n",
    "\n",
    "> Observação: os gráficos usam **matplotlib** (sem seaborn) e cada figura em **um único plot**, conforme boas práticas para notebooks avaliativos.\n"
   ]
  },
  {
   "cell_type": "markdown",
   "id": "b56c59d9",
   "metadata": {},
   "source": [
    "## 1) Imports e Configurações"
   ]
  },
  {
   "cell_type": "code",
   "execution_count": null,
   "id": "0378c775",
   "metadata": {},
   "outputs": [],
   "source": [
    "# Se precisar instalar algo no seu ambiente local, descomente:\n",
    "# !pip install pandas numpy scikit-learn matplotlib\n",
    "\n",
    "import os\n",
    "import numpy as np\n",
    "import pandas as pd\n",
    "import matplotlib.pyplot as plt\n",
    "from matplotlib.colors import ListedColormap\n",
    "\n",
    "from sklearn.model_selection import train_test_split, GridSearchCV\n",
    "from sklearn.preprocessing import OneHotEncoder, StandardScaler\n",
    "from sklearn.compose import ColumnTransformer\n",
    "from sklearn.pipeline import Pipeline\n",
    "from sklearn.metrics import (\n",
    "    accuracy_score, classification_report, confusion_matrix \n",
    ")\n",
    "from sklearn.svm import SVC\n",
    "from sklearn.decomposition import PCA\n",
    "\n",
    "# Configurações de display\n",
    "pd.set_option(\"display.max_columns\", 100)\n",
    "pd.set_option(\"display.width\", 160)\n",
    "plt.rcParams[\"figure.figsize\"] = (8, 5)\n",
    "\n",
    "print(\"Ambiente pronto.\")\n"
   ]
  },
  {
   "cell_type": "markdown",
   "id": "121a807c",
   "metadata": {},
   "source": [
    "\n",
    "## 2) Carregamento do Dataset\n",
    "\n",
    "Aponte para o CSV exportado do Postgres. Caso o arquivo **não seja encontrado**, o notebook gera um **dataset sintético mínimo** apenas para fins de demonstração.\n"
   ]
  },
  {
   "cell_type": "code",
   "execution_count": null,
   "id": "06640d1a",
   "metadata": {},
   "outputs": [],
   "source": [
    "# Caminho do CSV (ajuste conforme seu ambiente)\n",
    "csv_path = \"dataset-buonopreco-registro_de_clientes.csv\"  # exemplo local: \"dataset-buonopreco-registro_de_clientes.csv\"\n",
    "# csv_path = \"https://raw.githubusercontent.com/sousamaf/AI-Lab/main/datasets/dataset-buonopreco-registro_de_clientes.csv\"\n",
    "\n",
    "if os.path.exists(csv_path):\n",
    "    df = pd.read_csv(csv_path)\n",
    "    origem = \"CSV real\"\n",
    "else:\n",
    "    # Fallback didático: gera um conjunto simples com 4 classes\n",
    "    # Caso ocorra falha no CSV será gerado um conjunto sintético para permitir \n",
    "    # testes e a realização da atividade.\n",
    "    rng = np.random.default_rng(42)\n",
    "    n = 200\n",
    "    idade = np.clip(rng.normal(40, 12, n).astype(int), 18, 80)\n",
    "    freq = np.clip(rng.normal(2.5, 1.2, n), 0.2, 8.0)\n",
    "    gasto = np.clip(rng.normal(250, 180, n), 30, 1500)\n",
    "    usa_promocao = (rng.random(n) < 0.45).astype(int)\n",
    "    responde_whatsapp = (rng.random(n) < 0.35).astype(int)\n",
    "    dia_mais_frequente = (rng.random(n) < 0.5).astype(int)\n",
    "\n",
    "    # regra simples para rótulos (apenas para fallback)\n",
    "    classe = []\n",
    "    for f, g, rp in zip(freq, gasto, responde_whatsapp):\n",
    "        if f >= 4.0 and g <= 120:\n",
    "            classe.append(\"Fiel Econômico\")\n",
    "        elif 0.8 <= f <= 1.8 and g >= 250:\n",
    "            classe.append(\"Familiar Mensalista\")\n",
    "        elif rp >= 1:\n",
    "            classe.append(\"Reativo a Promoções\")\n",
    "        elif f <= 2.0 and g >= 400:\n",
    "            classe.append(\"Alto Valor Ticket Médio\")\n",
    "        else:\n",
    "            classe.append(\"Familiar Mensalista\")\n",
    "    df = pd.DataFrame({\n",
    "        \"idade\": idade,\n",
    "        \"frequencia_mensal\": freq,\n",
    "        \"gasto_medio\": gasto,\n",
    "        \"usa_promocao\": usa_promocao,\n",
    "        \"responde_whatsapp\": responde_whatsapp,\n",
    "        \"dia_mais_frequente\": dia_mais_frequente,\n",
    "        \"classe_cliente\": classe\n",
    "    })\n",
    "    origem = \"fallback sintético (gerado)\"\n",
    "print(\"Origem dos dados:\", origem)\n",
    "print(\"Formato:\", df.shape)\n",
    "display(df.head())\n",
    "df.info()\n"
   ]
  },
  {
   "cell_type": "markdown",
   "id": "7248f40a",
   "metadata": {},
   "source": [
    "\n",
    "## 3) Checagens rápidas e distribuição de classes\n"
   ]
  },
  {
   "cell_type": "code",
   "execution_count": null,
   "id": "36a6ed63",
   "metadata": {},
   "outputs": [],
   "source": [
    "print(\"Valores ausentes por coluna:\")\n",
    "print(df.isna().sum())\n",
    "\n",
    "if \"classe_cliente\" not in df.columns:\n",
    "    raise ValueError(\"Coluna 'classe_cliente' não encontrada no dataset.\")\n",
    "\n",
    "print(\"\\nDistribuição de classes:\")\n",
    "print(df[\"classe_cliente\"].value_counts())\n",
    "\n",
    "# Scatter simples: frequencia vs gasto (colorido por classe)\n",
    "if all(c in df.columns for c in [\"frequencia_mensal\",\"gasto_medio\",\"classe_cliente\"]):\n",
    "    fig = plt.figure()\n",
    "    classes = df[\"classe_cliente\"].unique()\n",
    "    for cl in classes:\n",
    "        sub = df[df[\"classe_cliente\"] == cl]\n",
    "        plt.scatter(sub[\"frequencia_mensal\"], sub[\"gasto_medio\"], alpha=0.7, label=str(cl))\n",
    "    plt.xlabel(\"frequencia_mensal\")\n",
    "    plt.ylabel(\"gasto_medio\")\n",
    "    plt.title(\"Dispersão: frequência vs gasto médio (por classe)\")\n",
    "    plt.legend()\n",
    "    plt.show()\n"
   ]
  },
  {
   "cell_type": "markdown",
   "id": "398ffa33",
   "metadata": {},
   "source": [
    "\n",
    "## 4) Pré-processamento\n",
    "\n",
    "- **Numéricas**: `StandardScaler`  \n",
    "- **Categóricas**: `OneHotEncoder`  \n",
    "- Excluímos identificadores como `cliente_id` (se existir).\n"
   ]
  },
  {
   "cell_type": "code",
   "execution_count": null,
   "id": "f6ec93f2",
   "metadata": {},
   "outputs": [],
   "source": [
    "label_col = \"classe_cliente\"\n",
    "drop_cols = [\"cliente_id\"] if \"cliente_id\" in df.columns else []\n",
    "\n",
    "y = df[label_col].copy()\n",
    "X = df.drop(columns=[label_col] + drop_cols)\n",
    "\n",
    "# Detecta tipos de forma robusta\n",
    "numeric_cols = [c for c in X.columns if pd.api.types.is_numeric_dtype(X[c])]\n",
    "categorical_cols = [c for c in X.columns if c not in numeric_cols]\n",
    "\n",
    "print(\"Numéricas:\", numeric_cols)\n",
    "print(\"Categóricas:\", categorical_cols)\n",
    "\n",
    "preprocess = ColumnTransformer(\n",
    "    transformers=[\n",
    "        (\"num\", StandardScaler(), numeric_cols),\n",
    "        (\"cat\", OneHotEncoder(handle_unknown=\"ignore\", sparse_output=False), categorical_cols),\n",
    "    ]\n",
    ")\n"
   ]
  },
  {
   "cell_type": "markdown",
   "id": "55609bd7",
   "metadata": {},
   "source": [
    "## 5) Split treino/teste"
   ]
  },
  {
   "cell_type": "code",
   "execution_count": null,
   "id": "94fe773a",
   "metadata": {},
   "outputs": [],
   "source": [
    "X_train, X_test, y_train, y_test = train_test_split(\n",
    "    X, y, test_size=0.30, random_state=42, stratify=y\n",
    ")\n",
    "print(\"Shapes:\", X_train.shape, X_test.shape, y_train.shape, y_test.shape)\n"
   ]
  },
  {
   "cell_type": "markdown",
   "id": "e707caea",
   "metadata": {},
   "source": [
    "## 6) Treinamento — SVM (RBF)\n",
    "\n",
    "Fluxograma do pipeline:\n",
    "<img src=\"https://sousamaf.github.io/AI-Lab/img/ai-svm-fluxograma-pipeline-buonopreco.png\">\n"
   ]
  },
  {
   "cell_type": "code",
   "execution_count": null,
   "id": "387a6e6e",
   "metadata": {},
   "outputs": [],
   "source": [
    "svm_rbf = Pipeline(steps=[\n",
    "    (\"prep\", preprocess),\n",
    "    (\"clf\", SVC(kernel=\"rbf\", random_state=42))\n",
    "])\n",
    "\n",
    "svm_rbf.fit(X_train, y_train)\n",
    "y_pred = svm_rbf.predict(X_test)\n",
    "\n",
    "acc = accuracy_score(y_test, y_pred)\n",
    "print(f\"Acurácia (teste): {acc:.4f}\\n\")\n"
   ]
  },
  {
   "cell_type": "markdown",
   "id": "37c78db1",
   "metadata": {},
   "source": [
    "\n",
    "## 7) Vetores de Suporte\n",
    "\n",
    "Para inspecionar os vetores de suporte, transformamos **X_train** com o pré-processamento e treinamos um `SVC` diretamente no espaço transformado.\n"
   ]
  },
  {
   "cell_type": "code",
   "execution_count": null,
   "id": "8fc8b5a5",
   "metadata": {},
   "outputs": [],
   "source": [
    "Xt = svm_rbf.named_steps[\"prep\"].fit_transform(X_train)\n",
    "clf_rbf = SVC(kernel=\"rbf\", random_state=42).fit(Xt, y_train)\n",
    "\n",
    "print(\"Total de vetores de suporte:\", clf_rbf.support_vectors_.shape[0])\n",
    "print(\"Vetores de suporte por classe:\", clf_rbf.n_support_)\n"
   ]
  },
  {
   "cell_type": "markdown",
   "id": "7bf21f03",
   "metadata": {},
   "source": [
    "\n",
    "## 8) Visualização com PCA (2D)\n"
   ]
  },
  {
   "cell_type": "code",
   "execution_count": null,
   "id": "00036c87",
   "metadata": {},
   "outputs": [],
   "source": [
    "Xt_all = svm_rbf.named_steps[\"prep\"].fit_transform(X)\n",
    "pca = PCA(n_components=2, random_state=42)\n",
    "Z = pca.fit_transform(Xt_all)\n",
    "\n",
    "fig = plt.figure()\n",
    "for cl in np.unique(y.values):\n",
    "    idx = (y.values == cl)\n",
    "    plt.scatter(Z[idx, 0], Z[idx, 1], alpha=0.7, label=str(cl))\n",
    "plt.xlabel(\"PC1\")\n",
    "plt.ylabel(\"PC2\")\n",
    "plt.title(\"Projeção PCA (2D) — Clientes por Classe\")\n",
    "plt.legend()\n",
    "plt.show()\n",
    "\n",
    "print(\"Variância explicada (PC1, PC2):\", pca.explained_variance_ratio_)\n"
   ]
  },
  {
   "cell_type": "markdown",
   "id": "990220c8",
   "metadata": {},
   "source": [
    "\n",
    "## 9) Sobrepor a fronteira de decisão do SVM\n",
    "\n",
    "Um extra avançado!\n",
    "\n",
    "Sobrepondo a fronteira de decisão no plano do PCA sem “mexer” no modelo treinado."
   ]
  },
  {
   "cell_type": "code",
   "execution_count": null,
   "id": "6e2a4106",
   "metadata": {},
   "outputs": [],
   "source": [
    "# 1) constrói a malha em PC1 x PC2\n",
    "pad = 0.75\n",
    "x_min, x_max = Z[:, 0].min() - pad, Z[:, 0].max() + pad\n",
    "y_min, y_max = Z[:, 1].min() - pad, Z[:, 1].max() + pad\n",
    "res = 300  # resolução da malha (aumente para uma borda mais suave)\n",
    "\n",
    "xx, yy = np.meshgrid(\n",
    "    np.linspace(x_min, x_max, res),\n",
    "    np.linspace(y_min, y_max, res)\n",
    ")\n",
    "grid_pca = np.c_[xx.ravel(), yy.ravel()]\n",
    "\n",
    "# 2) volta do espaço PCA -> espaço pré-processado (Xt)\n",
    "grid_preprocessed = pca.inverse_transform(grid_pca)\n",
    "\n",
    "# 3) prediz classes no grid usando o SVM treinado no espaço pré-processado\n",
    "Z_pred = clf_rbf.predict(grid_preprocessed)\n",
    "Z_pred = Z_pred.reshape(xx.shape)\n",
    "\n",
    "# 4) mapa de cores discreto (uma cor por classe)\n",
    "classes = np.unique(y)\n",
    "# criando um mapeamento classe -> índice\n",
    "cls_to_idx = {c: i for i, c in enumerate(classes)}\n",
    "idx_pred = np.vectorize(cls_to_idx.get)(Z_pred)\n",
    "\n",
    "# paleta simples (ajuste se tiver mais de 4 classes)\n",
    "cmap_bg = ListedColormap([\"#FFEEE6\", \"#E6F2FF\", \"#EAF7EA\", \"#F0E6FF\", \"#FFF5CC\"])\n",
    "cmap_pts = [\"#FF6A33\", \"#1F77B4\", \"#2CA02C\", \"#9467BD\", \"#BCBD22\"]\n",
    "\n",
    "# 5) plota a fronteira (contourf) + pontos reais no plano PCA\n",
    "plt.figure(figsize=(8, 6))\n",
    "plt.contourf(xx, yy, idx_pred, levels=len(classes), cmap=cmap_bg, alpha=0.6, antialiased=True)\n",
    "\n",
    "# pontos\n",
    "for i, cl in enumerate(classes):\n",
    "    mask = (y.values == cl)\n",
    "    plt.scatter(Z[mask, 0], Z[mask, 1], s=28, alpha=0.85, edgecolor=\"white\", linewidth=0.5,\n",
    "                label=str(cl), color=cmap_pts[i % len(cmap_pts)])\n",
    "\n",
    "plt.xlabel(\"PC1\")\n",
    "plt.ylabel(\"PC2\")\n",
    "plt.title(\"Fronteira de Decisão do SVM no Plano PCA (visualização)\")\n",
    "plt.legend(title=\"Classe verdadeira\", bbox_to_anchor=(1.02, 1), loc=\"upper left\")\n",
    "plt.tight_layout()\n",
    "plt.show()"
   ]
  },
  {
   "cell_type": "markdown",
   "id": "211d6481",
   "metadata": {},
   "source": [
    "\n",
    "## 10) Interpretação de Negócio (breve)\n",
    "\n",
    "Sugestões de leitura do resultado:\n",
    "\n",
    "- Se a classe 'Reativo a Promoções' confunde com 'Fiel Econômico', pode faltar uma feature de engajamento.\n"
   ]
  },
  {
   "cell_type": "code",
   "execution_count": null,
   "id": "8d1a1e90",
   "metadata": {},
   "outputs": [],
   "source": []
  }
 ],
 "metadata": {
  "kernelspec": {
   "display_name": "gpuTorch",
   "language": "python",
   "name": "python3"
  },
  "language_info": {
   "codemirror_mode": {
    "name": "ipython",
    "version": 3
   },
   "file_extension": ".py",
   "mimetype": "text/x-python",
   "name": "python",
   "nbconvert_exporter": "python",
   "pygments_lexer": "ipython3",
   "version": "3.12.9"
  }
 },
 "nbformat": 4,
 "nbformat_minor": 5
}
